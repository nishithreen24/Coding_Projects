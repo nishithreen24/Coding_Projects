{
 "cells": [
  {
   "cell_type": "code",
   "execution_count": 2,
   "metadata": {},
   "outputs": [
    {
     "name": "stdout",
     "output_type": "stream",
     "text": [
      "Value of Integral for n = 2 :\n",
      "1.4765861776406497\n",
      "Error % :\n",
      "41.00359344360613\n",
      "Value of Integral for n = 5 :\n",
      "0.8627932226246771\n",
      "Error % :\n",
      "17.609316251857916\n",
      "Value of Integral for n = 10 :\n",
      "1.1152686576004107\n",
      "Error % :\n",
      "6.500311839540735\n",
      "Value of Integral for n = 20 :\n",
      "1.0597992303876755\n",
      "Error % :\n",
      "1.2033717207109957\n"
     ]
    }
   ],
   "source": [
    "from scipy import special\n",
    "import math\n",
    "N = [2, 5, 10, 20]\n",
    "def f(x):\n",
    "    return(math.exp(x)/(1+x**6))\n",
    "for n in N:\n",
    "    xi = special.roots_laguerre(n)[0]\n",
    "    wi = special.roots_laguerre(n)[1]\n",
    "    integral = 0\n",
    "    for i in range(n):\n",
    "        integral = integral + wi[i]*f(xi[i])\n",
    "    print(\"Value of Integral for n =\", n, \":\")\n",
    "    print(integral)\n",
    "    print(\"Error % :\")\n",
    "    print(100*abs((math.pi/3)-integral)/(math.pi/3))"
   ]
  }
 ],
 "metadata": {
  "kernelspec": {
   "display_name": "Python 3",
   "language": "python",
   "name": "python3"
  },
  "language_info": {
   "codemirror_mode": {
    "name": "ipython",
    "version": 3
   },
   "file_extension": ".py",
   "mimetype": "text/x-python",
   "name": "python",
   "nbconvert_exporter": "python",
   "pygments_lexer": "ipython3",
   "version": "3.8.5"
  }
 },
 "nbformat": 4,
 "nbformat_minor": 2
}
