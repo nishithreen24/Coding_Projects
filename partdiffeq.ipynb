{
 "cells": [
  {
   "cell_type": "code",
   "execution_count": 3,
   "metadata": {},
   "outputs": [
    {
     "name": "stdout",
     "output_type": "stream",
     "text": [
      "[[-36.  16.   0.]\n",
      " [ 16. -36.  16.]\n",
      " [  0.  16. -36.]]\n",
      "[0.65603741 0.52295918 0.61437075]\n",
      "[-15.25   1.5  -13.75]\n"
     ]
    }
   ],
   "source": [
    "import numpy as np\n",
    "a=0\n",
    "b=1\n",
    "h=0.25\n",
    "n=int((b-a)/h)\n",
    "B = np.zeros(n-1)\n",
    "diag = -2*(1/(h*h))-4\n",
    "ultri = 1/(h*h)\n",
    "B = np.array([-15.25, 1.5,-13.75])\n",
    "A = np.zeros((n-1, n-1))\n",
    "for i in range(0,n-1):\n",
    "    for j in range(0,n-1):\n",
    "        if i-j == 0:\n",
    "            A[i,j] = diag\n",
    "        elif i-j == 1 or i-j == -1:\n",
    "            A[i,j] = ultri\n",
    "        else:\n",
    "            A[i,j] = 0\n",
    "X=np.linalg.inv(A).dot(B)\n",
    "print(A)\n",
    "print(X)\n",
    "print(B)"
   ]
  }
 ],
 "metadata": {
  "kernelspec": {
   "display_name": "Python 3",
   "language": "python",
   "name": "python3"
  },
  "language_info": {
   "codemirror_mode": {
    "name": "ipython",
    "version": 3
   },
   "file_extension": ".py",
   "mimetype": "text/x-python",
   "name": "python",
   "nbconvert_exporter": "python",
   "pygments_lexer": "ipython3",
   "version": "3.8.5"
  }
 },
 "nbformat": 4,
 "nbformat_minor": 2
}
