{
 "cells": [
  {
   "cell_type": "code",
   "execution_count": 1,
   "metadata": {},
   "outputs": [
    {
     "name": "stdout",
     "output_type": "stream",
     "text": [
      "0.5071219431187471\n"
     ]
    }
   ],
   "source": [
    "import math\n",
    "import numpy as np\n",
    "def f(x):\n",
    "    return((2*np.cos(x))/(5+4*np.cos(x)))\n",
    "def evallmt(a, b):\n",
    "    m = (b-a)/2\n",
    "    c = (b+a)/2\n",
    "    return(m*(f((-m/math.sqrt(3))+c)+f((m/math.sqrt(3))+c)))\n",
    "def err(r):\n",
    "    return(100*abs(r-eval())/r)\n",
    "#print(err(0))\n",
    "print(evallmt(0, 2*math.pi))\n",
    "from scipy import integrate\n",
    "#print(integrate.quadrature(f, 0, 2*np.pi))"
   ]
  }
 ],
 "metadata": {
  "kernelspec": {
   "display_name": "Python 3",
   "language": "python",
   "name": "python3"
  },
  "language_info": {
   "codemirror_mode": {
    "name": "ipython",
    "version": 3
   },
   "file_extension": ".py",
   "mimetype": "text/x-python",
   "name": "python",
   "nbconvert_exporter": "python",
   "pygments_lexer": "ipython3",
   "version": "3.8.5"
  }
 },
 "nbformat": 4,
 "nbformat_minor": 2
}
