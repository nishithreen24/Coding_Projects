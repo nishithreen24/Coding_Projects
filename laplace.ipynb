{
 "cells": [
  {
   "cell_type": "code",
   "execution_count": 14,
   "metadata": {},
   "outputs": [
    {
     "name": "stdout",
     "output_type": "stream",
     "text": [
      "[[ 4. -1.  0.  0. -1.  0.  0.  0.  0.]\n",
      " [-1.  4. -1.  0.  0. -1.  0.  0.  0.]\n",
      " [ 0. -1.  4. -1.  0.  0. -1.  0.  0.]\n",
      " [ 0.  0. -1.  4.  0.  0.  0. -1.  0.]\n",
      " [-1.  0.  0.  0.  4. -1.  0.  0.  0.]\n",
      " [ 0. -1.  0.  0. -1.  4. -1.  0.  0.]\n",
      " [ 0.  0. -1.  0.  0. -1.  4. -1.  0.]\n",
      " [ 0.  0.  0. -1.  0.  0. -1.  4.  0.]\n",
      " [ 0.  0.  0.  0.  0.  0.  0.  0.  0.]] .Y = [0, 0, 0, 2.625, 3, 1.875]\n"
     ]
    },
    {
     "ename": "LinAlgError",
     "evalue": "Singular matrix",
     "output_type": "error",
     "traceback": [
      "\u001b[0;31m---------------------------------------------------------------------------\u001b[0m",
      "\u001b[0;31mLinAlgError\u001b[0m                               Traceback (most recent call last)",
      "\u001b[1;32m/Users/nishithreen/Java-copy/laplace.ipynb Cell 1\u001b[0m line \u001b[0;36m4\n\u001b[1;32m     <a href='vscode-notebook-cell:/Users/nishithreen/Java-copy/laplace.ipynb#W0sZmlsZQ%3D%3D?line=41'>42</a>\u001b[0m B \u001b[39m=\u001b[39m [\u001b[39m0\u001b[39m, \u001b[39m0\u001b[39m, \u001b[39m0\u001b[39m, f(Y[\u001b[39m0\u001b[39m]), f(Y[\u001b[39m1\u001b[39m]), f(Y[\u001b[39m2\u001b[39m])]\n\u001b[1;32m     <a href='vscode-notebook-cell:/Users/nishithreen/Java-copy/laplace.ipynb#W0sZmlsZQ%3D%3D?line=42'>43</a>\u001b[0m \u001b[39mprint\u001b[39m(A, \u001b[39m\"\u001b[39m\u001b[39m.Y =\u001b[39m\u001b[39m\"\u001b[39m, B)\n\u001b[0;32m---> <a href='vscode-notebook-cell:/Users/nishithreen/Java-copy/laplace.ipynb#W0sZmlsZQ%3D%3D?line=43'>44</a>\u001b[0m out \u001b[39m=\u001b[39m np\u001b[39m.\u001b[39;49mlinalg\u001b[39m.\u001b[39;49minv(A)\u001b[39m.\u001b[39mdot(B)\n\u001b[1;32m     <a href='vscode-notebook-cell:/Users/nishithreen/Java-copy/laplace.ipynb#W0sZmlsZQ%3D%3D?line=44'>45</a>\u001b[0m \u001b[39mprint\u001b[39m(\u001b[39m\"\u001b[39m\u001b[39mY =\u001b[39m\u001b[39m\"\u001b[39m, out)\n",
      "File \u001b[0;32m<__array_function__ internals>:200\u001b[0m, in \u001b[0;36minv\u001b[0;34m(*args, **kwargs)\u001b[0m\n",
      "File \u001b[0;32m/Library/Frameworks/Python.framework/Versions/3.8/lib/python3.8/site-packages/numpy/linalg/linalg.py:538\u001b[0m, in \u001b[0;36minv\u001b[0;34m(a)\u001b[0m\n\u001b[1;32m    536\u001b[0m signature \u001b[39m=\u001b[39m \u001b[39m'\u001b[39m\u001b[39mD->D\u001b[39m\u001b[39m'\u001b[39m \u001b[39mif\u001b[39;00m isComplexType(t) \u001b[39melse\u001b[39;00m \u001b[39m'\u001b[39m\u001b[39md->d\u001b[39m\u001b[39m'\u001b[39m\n\u001b[1;32m    537\u001b[0m extobj \u001b[39m=\u001b[39m get_linalg_error_extobj(_raise_linalgerror_singular)\n\u001b[0;32m--> 538\u001b[0m ainv \u001b[39m=\u001b[39m _umath_linalg\u001b[39m.\u001b[39;49minv(a, signature\u001b[39m=\u001b[39;49msignature, extobj\u001b[39m=\u001b[39;49mextobj)\n\u001b[1;32m    539\u001b[0m \u001b[39mreturn\u001b[39;00m wrap(ainv\u001b[39m.\u001b[39mastype(result_t, copy\u001b[39m=\u001b[39m\u001b[39mFalse\u001b[39;00m))\n",
      "File \u001b[0;32m/Library/Frameworks/Python.framework/Versions/3.8/lib/python3.8/site-packages/numpy/linalg/linalg.py:89\u001b[0m, in \u001b[0;36m_raise_linalgerror_singular\u001b[0;34m(err, flag)\u001b[0m\n\u001b[1;32m     88\u001b[0m \u001b[39mdef\u001b[39;00m \u001b[39m_raise_linalgerror_singular\u001b[39m(err, flag):\n\u001b[0;32m---> 89\u001b[0m     \u001b[39mraise\u001b[39;00m LinAlgError(\u001b[39m\"\u001b[39m\u001b[39mSingular matrix\u001b[39m\u001b[39m\"\u001b[39m)\n",
      "\u001b[0;31mLinAlgError\u001b[0m: Singular matrix"
     ]
    }
   ],
   "source": [
    "import numpy as np\n",
    "import matplotlib.pyplot as plt\n",
    "a = 2\n",
    "b = 2\n",
    "yl = 0\n",
    "yu = b\n",
    "xl = 0\n",
    "xu = a\n",
    "def f(y):\n",
    "    return y*((y**2)-(3*a*y)+(2*a**2))\n",
    "h = 0.5\n",
    "ny = (yu-yl)/h\n",
    "nx = (xu-xl)/h\n",
    "X = [0.5, 1, 1.5]\n",
    "Y = [0.5, 1, 1.5]\n",
    "order = int((ny-1)*(nx-1))\n",
    "A = np.zeros((order, order))\n",
    "for i in range(int(order/2)):\n",
    "    for j in range(int(order/2)):\n",
    "        dif = abs(i-j)\n",
    "        if(dif==0):\n",
    "            A[i][j] = 4\n",
    "            A[i+4][j+4] = 4\n",
    "        elif(dif==1):\n",
    "            A[i][j] = -1\n",
    "            A[i+4][j+4] = -1\n",
    "        else:\n",
    "            A[i][j] = 0\n",
    "            A[i+4][j+4] = 0\n",
    "for i in range(int(order/2)):\n",
    "    for j in range(4, 4+int(order/2)):\n",
    "        dif = abs(4+i-j)\n",
    "        if(dif==0):\n",
    "            A[i][j] = -1\n",
    "            A[i+4][j-4] = -1\n",
    "        elif(dif==1):\n",
    "            A[i][j] = 0\n",
    "            A[i+4][j-4] = 0\n",
    "        else:\n",
    "            A[i][j] = 0\n",
    "            A[i+4][j-4] = 0\n",
    "B = [0, 0, 0, f(Y[0]), f(Y[1]), f(Y[2])]\n",
    "print(A, \".Y =\", B)\n",
    "out = np.linalg.inv(A).dot(B)\n",
    "print(\"Y =\", out)"
   ]
  }
 ],
 "metadata": {
  "kernelspec": {
   "display_name": "Python 3",
   "language": "python",
   "name": "python3"
  },
  "language_info": {
   "codemirror_mode": {
    "name": "ipython",
    "version": 3
   },
   "file_extension": ".py",
   "mimetype": "text/x-python",
   "name": "python",
   "nbconvert_exporter": "python",
   "pygments_lexer": "ipython3",
   "version": "3.8.5"
  }
 },
 "nbformat": 4,
 "nbformat_minor": 2
}
