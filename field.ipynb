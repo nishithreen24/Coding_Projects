{
 "cells": [
  {
   "cell_type": "code",
   "execution_count": 1,
   "metadata": {},
   "outputs": [],
   "source": [
    "import tkinter as tk\n",
    "# Create a window\n",
    "root = tk.Tk()\n",
    "root.geometry(\"600x400\")\n",
    "# Create a canvas widget\n",
    "canvas = tk.Canvas(root, bg=\"white\", width=600, height=400)\n",
    "# Draw the soccer field\n",
    "canvas.create_rectangle(50, 50, 550, 350, outline=\"white\", width=2, fill=\"green\")\n",
    "canvas.create_line(50, 200, 550, 200, width=2, fill=\"white\")\n",
    "canvas.create_oval(295, 195, 305, 205, fill=\"white\")\n",
    "# Add player icons\n",
    "canvas.create_oval(100, 100, 120, 120, fill=\"blue\")\n",
    "canvas.create_oval(200, 200, 220, 220, fill=\"red\")\n",
    "canvas.pack()\n",
    "root.mainloop()"
   ]
  }
 ],
 "metadata": {
  "kernelspec": {
   "display_name": "Python 3",
   "language": "python",
   "name": "python3"
  },
  "language_info": {
   "codemirror_mode": {
    "name": "ipython",
    "version": 3
   },
   "file_extension": ".py",
   "mimetype": "text/x-python",
   "name": "python",
   "nbconvert_exporter": "python",
   "pygments_lexer": "ipython3",
   "version": "3.8.5"
  },
  "orig_nbformat": 4
 },
 "nbformat": 4,
 "nbformat_minor": 2
}
