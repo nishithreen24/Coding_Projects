{
 "cells": [
  {
   "cell_type": "code",
   "execution_count": 2,
   "metadata": {},
   "outputs": [
    {
     "name": "stdout",
     "output_type": "stream",
     "text": [
      "Value of Integral:\n",
      "1.851937051982466\n",
      "Error %:\n",
      "253.6939233416502\n"
     ]
    }
   ],
   "source": [
    "from scipy.integrate import quad\n",
    "import math\n",
    "import numpy as np\n",
    "def f(x):\n",
    "    return(np.sin(x)/x)\n",
    "a = 0\n",
    "b = math.pi\n",
    "val = quad(f, a, b)[0]\n",
    "print(\"Value of Integral:\")\n",
    "print(val)\n",
    "print(\"Error %:\")\n",
    "print(100*abs(val-(math.pi/6))/(math.pi/6))\n",
    "#x1 = 1/math.sqrt(3)\n",
    "#x2 = -1/math.sqrt(3)\n",
    "#m = (b-a)/2\n",
    "#c = (b+a)/2\n",
    "#print(m*(f((-m/math.sqrt(3))+c)+f((m/math.sqrt(3))+c)))"
   ]
  }
 ],
 "metadata": {
  "kernelspec": {
   "display_name": "Python 3",
   "language": "python",
   "name": "python3"
  },
  "language_info": {
   "codemirror_mode": {
    "name": "ipython",
    "version": 3
   },
   "file_extension": ".py",
   "mimetype": "text/x-python",
   "name": "python",
   "nbconvert_exporter": "python",
   "pygments_lexer": "ipython3",
   "version": "3.8.5"
  }
 },
 "nbformat": 4,
 "nbformat_minor": 2
}
