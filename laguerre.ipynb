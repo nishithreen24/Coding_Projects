{
 "cells": [
  {
   "cell_type": "code",
   "execution_count": 32,
   "metadata": {},
   "outputs": [
    {
     "name": "stdout",
     "output_type": "stream",
     "text": [
      "For n = 10\n",
      "Integral = 1.1152686576004108791\n",
      "Error = 6.5003118395407504785\n"
     ]
    }
   ],
   "source": [
    "import numpy as np\n",
    "import math\n",
    "from sympy import *\n",
    "N = 10\n",
    "def lag_weights_roots(n):\n",
    "    x = Symbol(\"x\")\n",
    "    roots = Poly(laguerre(n, x)).all_roots()\n",
    "    x_i = [rt.evalf(20) for rt in roots]\n",
    "    w_i = [(rt / ((n + 1) * laguerre(n + 1, rt)) ** 2).evalf(20) for rt in roots]\n",
    "    return x_i, w_i\n",
    "#print(lag_weights_roots(N))\n",
    "xi, wi = lag_weights_roots(N)\n",
    "def f1(x):\n",
    "    return((math.exp(x))/(1+(x**6)))\n",
    "sum = 0\n",
    "def f2(x):\n",
    "    return math.sin(x)/x\n",
    "for i in range(N):\n",
    "    sum = sum + wi[i]*f1(xi[i])\n",
    "print(\"For n =\", N)\n",
    "print(\"Integral =\", sum)\n",
    "print(\"Error =\", 100*abs(sum-np.pi/3)/(np.pi/3))\n",
    "#print(\"Error =\", 100*abs(sum-math.pi/2)/(math.pi/2))"
   ]
  }
 ],
 "metadata": {
  "kernelspec": {
   "display_name": "Python 3",
   "language": "python",
   "name": "python3"
  },
  "language_info": {
   "codemirror_mode": {
    "name": "ipython",
    "version": 3
   },
   "file_extension": ".py",
   "mimetype": "text/x-python",
   "name": "python",
   "nbconvert_exporter": "python",
   "pygments_lexer": "ipython3",
   "version": "3.8.5"
  }
 },
 "nbformat": 4,
 "nbformat_minor": 2
}
