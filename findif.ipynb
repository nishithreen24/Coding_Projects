{
 "cells": [
  {
   "cell_type": "code",
   "execution_count": 31,
   "metadata": {},
   "outputs": [
    {
     "name": "stdout",
     "output_type": "stream",
     "text": [
      "B: [ 0. -9.]\n",
      "A: [[-19.   9.]\n",
      " [  9. -19.]]\n",
      "Y = A^-1.B: [0.28928571 0.61071429]\n",
      "[0.         0.28928571 0.61071429 1.        ]\n"
     ]
    }
   ],
   "source": [
    "import numpy as np\n",
    "import matplotlib.pyplot as plt\n",
    "xl = 0\n",
    "xu = 1\n",
    "yl = 0\n",
    "yu = 1\n",
    "a = 0\n",
    "b = 1\n",
    "h = 1/3\n",
    "n = int((xu-xl)/h)\n",
    "#print(n)\n",
    "X = []\n",
    "for i in range(n+1):\n",
    "    X.append(i*h)\n",
    "#print(X)\n",
    "Y = np.zeros(n+1)\n",
    "Y[int(xl/h)] = yl\n",
    "Y[int(xu/h)] = yu\n",
    "#print(Y)\n",
    "B = np.zeros(n-1)\n",
    "for i in range(n-1):\n",
    "    if(i==0):\n",
    "        B[i] = -1/(h**2)+a*X[i+1]\n",
    "    if(i==(n-2)):\n",
    "        B[i] = -1/(h**2)+a*X[i+1]\n",
    "    else:\n",
    "        B[i] = a*X[i+1]\n",
    "#B = [-1/(h**2)+a*X[1], a*X[2], -1/(h**2)+a*X[3]]\n",
    "print(\"B:\", B)\n",
    "A = np.zeros((n-1, n-1))\n",
    "for i in range(n-1):\n",
    "    for j in range(n-1):\n",
    "        dif = abs(i-j)\n",
    "        if(dif==0):\n",
    "            A[i][j] = -2/(h**2)-b\n",
    "        elif(dif==1):\n",
    "            A[i][j] = 1/(h**2)\n",
    "        else:\n",
    "            A[i][j] = 0\n",
    "print(\"A:\", A)\n",
    "Ym = np.linalg.inv(A).dot(B)\n",
    "print(\"Y = A^-1.B:\", Ym)\n",
    "for i in range(Ym.size):\n",
    "    Y[i+1] = Ym[i]\n",
    "print(Y)"
   ]
  }
 ],
 "metadata": {
  "kernelspec": {
   "display_name": "Python 3",
   "language": "python",
   "name": "python3"
  },
  "language_info": {
   "codemirror_mode": {
    "name": "ipython",
    "version": 3
   },
   "file_extension": ".py",
   "mimetype": "text/x-python",
   "name": "python",
   "nbconvert_exporter": "python",
   "pygments_lexer": "ipython3",
   "version": "3.8.5"
  }
 },
 "nbformat": 4,
 "nbformat_minor": 2
}
