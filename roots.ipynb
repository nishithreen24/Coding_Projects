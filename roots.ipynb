{
 "cells": [
  {
   "cell_type": "code",
   "execution_count": 38,
   "metadata": {},
   "outputs": [
    {
     "name": "stdout",
     "output_type": "stream",
     "text": [
      "Equation in the form x^n = a+ib\n",
      "(0.7071067811865476+0.7071067811865475j)\n",
      "(-0.7071067811865475+0.7071067811865476j)\n",
      "(-0.7071067811865477-0.7071067811865474j)\n",
      "(0.7071067811865474-0.7071067811865477j)\n"
     ]
    }
   ],
   "source": [
    "import math\n",
    "import cmath\n",
    "def root(z, N):\n",
    "    theta = cmath.phase(z)\n",
    "    r = abs(z)\n",
    "    for n in range(0, N):\n",
    "        x = (math.pow(r, (1/(2*N))))*complex(math.cos((theta/N)+(2*n*math.pi/N)), math.sin((theta/N)+(2*n*math.pi/N)))\n",
    "        print(x)\n",
    "print(\"Equation in the form x^n = a+ib\")\n",
    "n_n = eval(input(\"Enter n\"))\n",
    "a = eval(input(\"Enter a\"))\n",
    "b = eval(input(\"Enter b\"))\n",
    "testz = complex(a, b)\n",
    "root(testz, n_n)"
   ]
  }
 ],
 "metadata": {
  "kernelspec": {
   "display_name": "Python 3",
   "language": "python",
   "name": "python3"
  },
  "language_info": {
   "codemirror_mode": {
    "name": "ipython",
    "version": 3
   },
   "file_extension": ".py",
   "mimetype": "text/x-python",
   "name": "python",
   "nbconvert_exporter": "python",
   "pygments_lexer": "ipython3",
   "version": "3.8.5"
  },
  "orig_nbformat": 4
 },
 "nbformat": 4,
 "nbformat_minor": 2
}
