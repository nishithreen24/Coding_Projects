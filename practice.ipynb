{
 "cells": [
  {
   "cell_type": "code",
   "execution_count": 2,
   "metadata": {},
   "outputs": [
    {
     "ename": "ModuleNotFoundError",
     "evalue": "No module named 'numpy'",
     "output_type": "error",
     "traceback": [
      "\u001b[0;31m---------------------------------------------------------------------------\u001b[0m",
      "\u001b[0;31mModuleNotFoundError\u001b[0m                       Traceback (most recent call last)",
      "Cell \u001b[0;32mIn[2], line 1\u001b[0m\n\u001b[0;32m----> 1\u001b[0m \u001b[39mimport\u001b[39;00m \u001b[39mnumpy\u001b[39;00m \u001b[39mas\u001b[39;00m \u001b[39mnp\u001b[39;00m\n\u001b[1;32m      2\u001b[0m \u001b[39mimport\u001b[39;00m \u001b[39mmatplotlib\u001b[39;00m\u001b[39m.\u001b[39;00m\u001b[39mpyplot\u001b[39;00m \u001b[39mas\u001b[39;00m \u001b[39mplt\u001b[39;00m\n\u001b[1;32m      3\u001b[0m t \u001b[39m=\u001b[39m np\u001b[39m.\u001b[39marange(\u001b[39m0\u001b[39m, \u001b[39m100\u001b[39m, \u001b[39m0.00001\u001b[39m)\n",
      "\u001b[0;31mModuleNotFoundError\u001b[0m: No module named 'numpy'"
     ]
    }
   ],
   "source": [
    "import numpy as np\n",
    "import matplotlib.pyplot as plt\n",
    "t = np.arange(0, 100, 0.00001)\n",
    "g = eval(input(\"Enter damping coefficient(gamma): \"))\n",
    "w = eval(input(\"Enter natural frequency of the system(omega0): \"))\n",
    "def evaluate():\n",
    "  x = A1*np.exp(p1*t)+A2*np.exp(p2*t)\n",
    "  v = A1*p1*np.exp(p1*t)+A2*p2*np.exp(p2*t)\n",
    "  plt.plot(t, x)\n",
    "  plt.xlabel(\"time(t)\")\n",
    "  plt.ylabel(\"displacement(x), velocity(v)\")\n",
    "  plt.plot(t, v)\n",
    "if(g>2*w):\n",
    "  q = np.sqrt(g**2-(4*w**2))\n",
    "  A1 = -1/2\n",
    "  A2 = 3/2\n",
    "  p1 = (-g/2+q/2)\n",
    "  p2 = (-g/2-q/2)\n",
    "  evaluate()\n",
    "  plt.title(\"Overdamped System\")\n",
    "elif(g==2*w):\n",
    "  q = 0\n",
    "  A1 = -2\n",
    "  A2 = 1\n",
    "  p1 = (-g/2+q/2)\n",
    "  p2 = (-g/2-q/2)\n",
    "  evaluate()\n",
    "  plt.title(\"Critically Damped System\")\n",
    "else:\n",
    "  q = 1j*np.sqrt((4*w**2)-g**2)\n",
    "  A1 = 1\n",
    "  A2 = 1/np.sqrt(11)\n",
    "  p1 = (-g/2+q/2)\n",
    "  p2 = (-g/2-q/2)\n",
    "  evaluate()\n",
    "  plt.title(\"Underdamped System\")\n",
    "plt.show()"
   ]
  }
 ],
 "metadata": {
  "kernelspec": {
   "display_name": "Python 3",
   "language": "python",
   "name": "python3"
  },
  "language_info": {
   "codemirror_mode": {
    "name": "ipython",
    "version": 3
   },
   "file_extension": ".py",
   "mimetype": "text/x-python",
   "name": "python",
   "nbconvert_exporter": "python",
   "pygments_lexer": "ipython3",
   "version": "3.9.6"
  },
  "orig_nbformat": 4,
  "vscode": {
   "interpreter": {
    "hash": "31f2aee4e71d21fbe5cf8b01ff0e069b9275f58929596ceb00d14d90e3e16cd6"
   }
  }
 },
 "nbformat": 4,
 "nbformat_minor": 2
}
