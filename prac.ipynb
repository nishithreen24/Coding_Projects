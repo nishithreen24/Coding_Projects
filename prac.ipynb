import matplotlib.pyplot as plt
plt.plot(0, 1)