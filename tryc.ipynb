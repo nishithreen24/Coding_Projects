{
 "cells": [
  {
   "cell_type": "code",
   "execution_count": 13,
   "metadata": {},
   "outputs": [
    {
     "name": "stdout",
     "output_type": "stream",
     "text": [
      "Equation for mapping is in the form of w = r*e^(i*theta)*z + a+ib\n"
     ]
    },
    {
     "data": {
      "image/png": "[encoded data removed]",
      "text/plain": [
       "<Figure size 640x480 with 2 Axes>"
      ]
     },
     "metadata": {},
     "output_type": "display_data"
    }
   ],
   "source": [
    "import numpy as np\n",
    "import matplotlib.pyplot as plt\n",
    "import cmath\n",
    "class tryc:\n",
    "    def __init__(self, ml, cl, sl, el):\n",
    "        self.m = ml\n",
    "        self.c = cl\n",
    "        self.s = sl\n",
    "        self.e = el\n",
    "    def plot(self):\n",
    "        if (self.m==np.tan((np.pi/2))):\n",
    "            Y = np.linspace(self.s, self.e, 100)\n",
    "            X = Y*0+self.c\n",
    "            plt.plot(X, Y)\n",
    "        else:\n",
    "            X = np.linspace(self.s, self.e, 100)\n",
    "            Y = (X*self.m)+self.c\n",
    "            plt.plot(X, Y)\n",
    "    def back(limit):\n",
    "        plt.grid()\n",
    "        plt.xlim(-limit, limit)\n",
    "        plt.ylim(-limit, limit)\n",
    "        #plt.show()\n",
    "    def translate(self, z):\n",
    "        tx = z.real\n",
    "        ty = z.imag\n",
    "        if(self.m==np.tan((np.pi/2))):\n",
    "            self.c = self.c+tx\n",
    "            self.s = self.s+ty\n",
    "            self.e = self.e+ty\n",
    "        else:\n",
    "            self.c = self.c-(tx*self.m)+ty\n",
    "            self.s = self.s+tx\n",
    "            self.e = self.e+tx\n",
    "    def scale(self, r):\n",
    "        self.c = self.c*r\n",
    "        self.s = self.s*r\n",
    "        self.e = self.e*r\n",
    "    def rotate(self, a):\n",
    "        if(self.m==np.tan((np.pi/2))):\n",
    "            self.s = (self.c*np.cos(a))-(self.s*np.sin(a))\n",
    "            self.e = (self.c*np.cos(a))-(self.e*np.sin(a))\n",
    "            self.c = self.c/np.sin(a)\n",
    "            self.m = -1/np.tan(a)\n",
    "        else:\n",
    "            self.e = (self.e*np.cos(a))-(self.s*np.sin(a))\n",
    "            self.s = (self.s*np.cos(a))-(self.c*np.sin(a))\n",
    "            self.c = self.c/(np.cos(a)-(self.m*np.sin(a)))\n",
    "            self.m = ((self.m*np.cos(a))+np.sin(a))/(np.cos(a)-(self.m*np.sin(a)))\n",
    "x1 = 0\n",
    "x2 = 1\n",
    "y1 = 0\n",
    "y2 = 2\n",
    "line1 = tryc(0, 0, 0, 1)\n",
    "line2 = tryc(-1, 1, 0, 1)\n",
    "line3 = tryc(np.tan((np.pi/2)), 0, 0, 1)\n",
    "#line4 = tryc(np.tan((np.pi/2)), x2, y1, y2)\n",
    "lines = [line1, line2, line3]\n",
    "print(\"Equation for mapping is in the form of w = r*e^(i*theta)*z + a+ib\")\n",
    "shift = complex(-1, -1)\n",
    "magnification = 2\n",
    "angle = np.pi/4\n",
    "for line in lines:\n",
    "    plt.subplot(1, 2, 1)\n",
    "    line.plot()\n",
    "    line.rotate(angle)\n",
    "    line.scale(magnification)\n",
    "    line.translate(shift)\n",
    "    plt.subplot(1, 2, 2)\n",
    "    line.plot()\n",
    "plt.subplot(1, 2, 1)\n",
    "plt.title(\"Z-Plane\")\n",
    "tryc.back(5)\n",
    "plt.subplot(1, 2, 2)\n",
    "plt.title(\"W-Plane\")\n",
    "tryc.back(5)"
   ]
  }
 ],
 "metadata": {
  "kernelspec": {
   "display_name": "Python 3",
   "language": "python",
   "name": "python3"
  },
  "language_info": {
   "codemirror_mode": {
    "name": "ipython",
    "version": 3
   },
   "file_extension": ".py",
   "mimetype": "text/x-python",
   "name": "python",
   "nbconvert_exporter": "python",
   "pygments_lexer": "ipython3",
   "version": "3.8.5"
  },
  "orig_nbformat": 4
 },
 "nbformat": 4,
 "nbformat_minor": 2
}
