{
 "cells": [
  {
   "cell_type": "code",
   "execution_count": 3,
   "metadata": {},
   "outputs": [
    {
     "data": {
      "image/png": "[encoded data removed]",
      "text/plain": [
       "<Figure size 640x480 with 1 Axes>"
      ]
     },
     "metadata": {},
     "output_type": "display_data"
    },
    {
     "data": {
      "image/png": "[encoded data removed]",
      "text/plain": [
       "<Figure size 640x480 with 1 Axes>"
      ]
     },
     "metadata": {},
     "output_type": "display_data"
    }
   ],
   "source": [
    "import numpy as np\n",
    "import matplotlib.pyplot as plt\n",
    "import cmath\n",
    "def plotline(slope_angle, intercept, start, end):\n",
    "    c = intercept\n",
    "    if (slope_angle==(np.pi/2)):\n",
    "        X = np.linspace(start, end, 100)\n",
    "        Y = X*0+c\n",
    "        plt.plot(Y, X)\n",
    "    else:\n",
    "        X = np.linspace(start, end, 100)\n",
    "        m = np.tan(slope_angle)\n",
    "        Y = (X*m)+c\n",
    "        plt.plot(X, Y)\n",
    "#plt.xlim(start-1, end+1)\n",
    "#plt.ylim((m*s)+c-1, (m*e)+c+1)\n",
    "#plt.ylim(start-1, end+1)\n",
    "#plt.subplot(1, 3, 1)\n",
    "#plt.xlim(-5, 5)\n",
    "#plt.ylim(-5, 5)\n",
    "#plt.grid()\n",
    "#a1 = 0\n",
    "#a2 = 0\n",
    "#a3 = (np.pi)/2\n",
    "#a4 = (np.pi)/2\n",
    "#plotline(a1, 0, 0, 1)\n",
    "#plotline(a2, 2, 0, 1)\n",
    "#plotline(a3, 0, 0, 2)\n",
    "#plotline(a4, 1, 0, 2)\n",
    "#plt.subplot(1, 2, 1)\n",
    "plt.xlim(-5, 5)\n",
    "plt.ylim(-5, 5)\n",
    "plt.grid()\n",
    "def rotatem(m, theta):\n",
    "    if(m==np.tan((np.pi/2))):\n",
    "        return(-1/np.tan(theta))\n",
    "    else:\n",
    "        return(((m*np.cos(theta))+np.sin(theta))/(np.cos(theta)-(m*np.sin(theta))))\n",
    "def rotatec(m, c, theta):\n",
    "    if(m==np.tan((np.pi/2))):\n",
    "        return(c/np.sin(theta))\n",
    "    else:\n",
    "        return(c/(np.cos(theta)-(m*np.sin(theta))))\n",
    "def plotm(m, c, s, e):\n",
    "    if (m==np.tan((np.pi/2))):\n",
    "        X = np.linspace(s, e, 100)\n",
    "        Y = X*0+c\n",
    "        plt.plot(Y, X)\n",
    "    else:\n",
    "        X = np.linspace(s, e, 100)\n",
    "        Y = (X*m)+c\n",
    "        plt.plot(X, Y)\n",
    "#def rotatel(l, theta):\n",
    "    #if(l==0):\n",
    "        #return 0\n",
    "    #else:\n",
    "        #return l*\n",
    "sx = 0\n",
    "sy = 0\n",
    "ex = 1\n",
    "ey = 2\n",
    "m1 = 0\n",
    "m2 = 0\n",
    "m3 = np.tan((np.pi/2))\n",
    "m4 = np.tan((np.pi/2))\n",
    "c1 = 0\n",
    "c2 = 2\n",
    "c3 = 0\n",
    "c4 = 1\n",
    "plotm(m1, c1, sx, ex)\n",
    "plotm(m2, c2, sx, ex)\n",
    "plotm(m3, c3, sy, ey)\n",
    "plotm(m4, c4, sy, ey)\n",
    "rotation = (np.pi)\n",
    "plt.show()\n",
    "#plt.subplot(1, 2, 2)\n",
    "plt.xlim(-5, 5)\n",
    "plt.ylim(-5, 5)\n",
    "plt.grid()\n",
    "l1 = 2*0\n",
    "l2 = 1*np.cos(rotation)\n",
    "l3 = -1*np.cos(rotation)\n",
    "l4 = -2*np.cos(rotation)\n",
    "c1 = rotatec(m1, c1, rotation)\n",
    "m1 = rotatem(m1, rotation)\n",
    "plotm(m1, c1, l1, l2)\n",
    "c2 = rotatec(m2, c2, rotation)\n",
    "m2 = rotatem(m2, rotation)\n",
    "plotm(m2, c2, l4, l3)\n",
    "c3 = rotatec(m3, c3, rotation)\n",
    "m3 = rotatem(m3, rotation)\n",
    "plotm(m3, c3, l4, l1)\n",
    "c4 = rotatec(m4, c4, rotation)\n",
    "m4 = rotatem(m4, rotation)\n",
    "plotm(m4, c4, l3, l2)"
   ]
  }
 ],
 "metadata": {
  "kernelspec": {
   "display_name": "Python 3",
   "language": "python",
   "name": "python3"
  },
  "language_info": {
   "codemirror_mode": {
    "name": "ipython",
    "version": 3
   },
   "file_extension": ".py",
   "mimetype": "text/x-python",
   "name": "python",
   "nbconvert_exporter": "python",
   "pygments_lexer": "ipython3",
   "version": "3.8.5"
  },
  "orig_nbformat": 4
 },
 "nbformat": 4,
 "nbformat_minor": 2
}
